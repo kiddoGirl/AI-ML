{
 "cells": [
  {
   "cell_type": "code",
   "execution_count": 1,
   "metadata": {},
   "outputs": [],
   "source": [
    "import cv2 as cv\n"
   ]
  },
  {
   "cell_type": "code",
   "execution_count": null,
   "metadata": {},
   "outputs": [],
   "source": [
    "img = cv.imread('photos/cat1.jpg')\n",
    "cv.imshow('Cat', img)\n",
    "\n",
    "def rescaleFrame(frame , scale=0.65):\n",
    "    width = int(frame.shape[1] * scale)\n",
    "    height = int(frame.shape[0] * scale)\n",
    "    dimensions = (width,height)\n",
    "\n",
    "    return cv.resize(frame,dimensions, interpolation=cv.INTER_AREA)\n",
    " \n",
    "resized_img = rescaleFrame(img)\n",
    "\n",
    "cv.imshow('Resized_Image' , resized_img)\n",
    "\n",
    "def changeRes(width,height):\n",
    "    #live video only\n",
    "    capture.set(3, width)\n",
    "    capture.set(4, height)\n",
    "\n",
    "capture = cv.VideoCapture('videos/video.mp4')\n",
    "\n",
    "while True:\n",
    "    isTrue, frame = capture.read()\n",
    "\n",
    "    frame_resized = rescaleFrame(frame, scale=0.20)\n",
    "\n",
    "    cv.imshow('Video' , frame)\n",
    "    cv.imshow('Video Resized' , frame_resized)\n",
    "\n",
    "    if cv.waitKey(0) & 0xFF==ord('d'):\n",
    "        break\n",
    "\n",
    "capture.release()\n",
    "\n",
    "cv.destroyAllWindows()  "
   ]
  },
  {
   "cell_type": "code",
   "execution_count": null,
   "metadata": {},
   "outputs": [],
   "source": []
  }
 ],
 "metadata": {
  "kernelspec": {
   "display_name": "Python 3",
   "language": "python",
   "name": "python3"
  },
  "language_info": {
   "codemirror_mode": {
    "name": "ipython",
    "version": 3
   },
   "file_extension": ".py",
   "mimetype": "text/x-python",
   "name": "python",
   "nbconvert_exporter": "python",
   "pygments_lexer": "ipython3",
   "version": "3.13.2"
  }
 },
 "nbformat": 4,
 "nbformat_minor": 2
}
