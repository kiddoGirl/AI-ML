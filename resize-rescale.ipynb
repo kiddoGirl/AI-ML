{
 "cells": [
  {
   "cell_type": "code",
   "execution_count": 2,
   "metadata": {},
   "outputs": [],
   "source": [
    "import cv2 as cv\n"
   ]
  },
  {
   "cell_type": "code",
   "execution_count": 3,
   "metadata": {},
   "outputs": [
    {
     "ename": "AttributeError",
     "evalue": "'NoneType' object has no attribute 'shape'",
     "output_type": "error",
     "traceback": [
      "\u001b[31m---------------------------------------------------------------------------\u001b[39m",
      "\u001b[31mAttributeError\u001b[39m                            Traceback (most recent call last)",
      "\u001b[36mCell\u001b[39m\u001b[36m \u001b[39m\u001b[32mIn[3]\u001b[39m\u001b[32m, line 25\u001b[39m\n\u001b[32m     22\u001b[39m \u001b[38;5;28;01mwhile\u001b[39;00m \u001b[38;5;28;01mTrue\u001b[39;00m:\n\u001b[32m     23\u001b[39m     isTrue, frame = capture.read()\n\u001b[32m---> \u001b[39m\u001b[32m25\u001b[39m     frame_resized = \u001b[43mrescaleFrame\u001b[49m\u001b[43m(\u001b[49m\u001b[43mframe\u001b[49m\u001b[43m,\u001b[49m\u001b[43m \u001b[49m\u001b[43mscale\u001b[49m\u001b[43m=\u001b[49m\u001b[32;43m0.20\u001b[39;49m\u001b[43m)\u001b[49m\n\u001b[32m     27\u001b[39m     cv.imshow(\u001b[33m'\u001b[39m\u001b[33mVideo\u001b[39m\u001b[33m'\u001b[39m , frame)\n\u001b[32m     28\u001b[39m     cv.imshow(\u001b[33m'\u001b[39m\u001b[33mVideo Resized\u001b[39m\u001b[33m'\u001b[39m , frame_resized)\n",
      "\u001b[36mCell\u001b[39m\u001b[36m \u001b[39m\u001b[32mIn[3]\u001b[39m\u001b[32m, line 5\u001b[39m, in \u001b[36mrescaleFrame\u001b[39m\u001b[34m(frame, scale)\u001b[39m\n\u001b[32m      4\u001b[39m \u001b[38;5;28;01mdef\u001b[39;00m\u001b[38;5;250m \u001b[39m\u001b[34mrescaleFrame\u001b[39m(frame , scale=\u001b[32m0.65\u001b[39m):\n\u001b[32m----> \u001b[39m\u001b[32m5\u001b[39m     width = \u001b[38;5;28mint\u001b[39m(\u001b[43mframe\u001b[49m\u001b[43m.\u001b[49m\u001b[43mshape\u001b[49m[\u001b[32m1\u001b[39m] * scale)\n\u001b[32m      6\u001b[39m     height = \u001b[38;5;28mint\u001b[39m(frame.shape[\u001b[32m0\u001b[39m] * scale)\n\u001b[32m      7\u001b[39m     dimensions = (width,height)\n",
      "\u001b[31mAttributeError\u001b[39m: 'NoneType' object has no attribute 'shape'"
     ]
    }
   ],
   "source": [
    "img = cv.imread('photos/cat1.jpg')\n",
    "cv.imshow('Cat', img)\n",
    "\n",
    "def rescaleFrame(frame , scale=0.65):\n",
    "    width = int(frame.shape[1] * scale)\n",
    "    height = int(frame.shape[0] * scale)\n",
    "    dimensions = (width,height)\n",
    "\n",
    "    return cv.resize(frame,dimensions, interpolation=cv.INTER_AREA)\n",
    " \n",
    "resized_img = rescaleFrame(img)\n",
    "\n",
    "cv.imshow('Resized_Image' , resized_img)\n",
    "\n",
    "def changeRes(width,height):\n",
    "    #live video only\n",
    "    capture.set(3, width)\n",
    "    capture.set(4, height)\n",
    "\n",
    "capture = cv.VideoCapture('videos/video.mp4')\n",
    "\n",
    "while True:\n",
    "    isTrue, frame = capture.read()\n",
    "  \n",
    "    frame_resized = rescaleFrame(frame, scale=0.20)\n",
    "\n",
    "    cv.imshow('Video' , frame)\n",
    "    cv.imshow('Video Resized' , frame_resized)\n",
    "\n",
    "    if cv.waitKey(0) & 0xFF==ord('d'):\n",
    "        break\n",
    "\n",
    "capture.release()\n",
    "\n",
    "cv.destroyAllWindows()  "
   ]
  },
  {
   "cell_type": "code",
   "execution_count": null,
   "metadata": {},
   "outputs": [],
   "source": []
  }
 ],
 "metadata": {
  "kernelspec": {
   "display_name": "Python 3",
   "language": "python",
   "name": "python3"
  },
  "language_info": {
   "codemirror_mode": {
    "name": "ipython",
    "version": 3
   },
   "file_extension": ".py",
   "mimetype": "text/x-python",
   "name": "python",
   "nbconvert_exporter": "python",
   "pygments_lexer": "ipython3",
   "version": "3.13.2"
  }
 },
 "nbformat": 4,
 "nbformat_minor": 2
}
