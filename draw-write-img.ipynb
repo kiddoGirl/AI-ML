{
 "cells": [
  {
   "cell_type": "code",
   "execution_count": 1,
   "metadata": {},
   "outputs": [],
   "source": [
    "import cv2 as cv\n",
    "import numpy as np"
   ]
  },
  {
   "cell_type": "code",
   "execution_count": null,
   "metadata": {},
   "outputs": [],
   "source": [
    "blank = np.zeros((500,500,3) , dtype=\"uint8\")\n",
    "cv.imshow('Blank', blank)\n",
    "\n",
    "# blank[100:200 , 400:500] = 0,0,255\n",
    "# cv.imshow('Blue' , blank)\n",
    "\n",
    "cv.rectangle(blank , (0,0) , (blank.shape[1]//2 , blank.shape[0]//2), (255,0,0), thickness=-1)\n",
    "cv.imshow('Rectangle' , blank)\n",
    "\n",
    "cv.circle(blank , (250,250) , 50 , (0,255,0) , thickness=-1)\n",
    "cv.imshow('Circle', blank)\n",
    "\n",
    "cv.line(blank , (0,0) , (250,250) , (255,255,255) , thickness=3)\n",
    "cv.imshow('Line' , blank)\n",
    "\n",
    "cv.putText(blank , 'Hello , I am Manju!!' , (0,255) , cv.FONT_HERSHEY_COMPLEX , 1.0 , (0,0,255) , thickness=2)\n",
    "cv.imshow('Text' , blank)\n",
    "\n",
    "\n",
    "cv.waitKey(0)"
   ]
  },
  {
   "cell_type": "code",
   "execution_count": null,
   "metadata": {},
   "outputs": [],
   "source": []
  }
 ],
 "metadata": {
  "kernelspec": {
   "display_name": "Python 3",
   "language": "python",
   "name": "python3"
  },
  "language_info": {
   "codemirror_mode": {
    "name": "ipython",
    "version": 3
   },
   "file_extension": ".py",
   "mimetype": "text/x-python",
   "name": "python",
   "nbconvert_exporter": "python",
   "pygments_lexer": "ipython3",
   "version": "3.13.2"
  }
 },
 "nbformat": 4,
 "nbformat_minor": 2
}
