{
 "cells": [
  {
   "cell_type": "code",
   "execution_count": 2,
   "metadata": {},
   "outputs": [],
   "source": [
    "import cv2 as cv\n",
    "import numpy as np"
   ]
  },
  {
   "cell_type": "code",
   "execution_count": 4,
   "metadata": {},
   "outputs": [
    {
     "data": {
      "text/plain": [
       "-1"
      ]
     },
     "execution_count": 4,
     "metadata": {},
     "output_type": "execute_result"
    }
   ],
   "source": [
    "img = cv.imread('photos/cat6.jpg')\n",
    "cv.imshow('img' , img)\n",
    "\n",
    "blank = np.zeros(img.shape[:2] , dtype='uint8')\n",
    "cv.imshow('blank image' , blank)\n",
    "\n",
    "mask = cv.circle(blank , (img.shape[1]//2 , img.shape[0]//2) , 100 , 255 , -1)\n",
    "cv.imshow('Mask' , mask)\n",
    "\n",
    "masked = cv.bitwise_and(img,img,mask=mask)\n",
    "cv.imshow('masked img' , masked)\n",
    " \n",
    "cv.waitKey(0)"
   ]
  },
  {
   "cell_type": "code",
   "execution_count": null,
   "metadata": {},
   "outputs": [],
   "source": []
  }
 ],
 "metadata": {
  "kernelspec": {
   "display_name": "Python 3",
   "language": "python",
   "name": "python3"
  },
  "language_info": {
   "codemirror_mode": {
    "name": "ipython",
    "version": 3
   },
   "file_extension": ".py",
   "mimetype": "text/x-python",
   "name": "python",
   "nbconvert_exporter": "python",
   "pygments_lexer": "ipython3",
   "version": "3.13.2"
  }
 },
 "nbformat": 4,
 "nbformat_minor": 2
}
