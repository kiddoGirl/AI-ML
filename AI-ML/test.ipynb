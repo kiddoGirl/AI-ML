{
 "cells": [
  {
   "cell_type": "code",
   "execution_count": 1,
   "metadata": {},
   "outputs": [
    {
     "name": "stdout",
     "output_type": "stream",
     "text": [
      "      Close  high_low  pct_change     Volume\n",
      "0  2.511011  8.072565    0.339980  893181924\n",
      "1  2.710460  7.921718    7.226980  456686856\n",
      "2  2.737738  4.049365   -1.218969  365122512\n",
      "3  2.624374  7.657102   -5.726378  304946748\n",
      "4  2.652653  3.886788    0.990853  183772044\n"
     ]
    }
   ],
   "source": [
    "import pandas as pd\n",
    "\n",
    "# Replace with the actual path to your CSV file\n",
    "file_path = \"GOOGLE.csv\"\n",
    "\n",
    "# Load the CSV file into a pandas DataFrame\n",
    "df = pd.read_csv(file_path)\n",
    "\n",
    "df = df[[\"Open\" , \"High\" , \"Low\" , \"Close\" , \"Volume\",]]\n",
    "df['high_low'] = (df['High'] - df['Low']) / df['Close'] * 100.0\n",
    "df['pct_change'] = (df['Close'] - df['Open']) / df['Open'] * 100.0\n",
    "\n",
    "df = df[['Close' , 'high_low' , 'pct_change' , 'Volume']]\n",
    "\n",
    "print(df.head())\n"
   ]
  }
 ],
 "metadata": {
  "kernelspec": {
   "display_name": "Python 3",
   "language": "python",
   "name": "python3"
  },
  "language_info": {
   "codemirror_mode": {
    "name": "ipython",
    "version": 3
   },
   "file_extension": ".py",
   "mimetype": "text/x-python",
   "name": "python",
   "nbconvert_exporter": "python",
   "pygments_lexer": "ipython3",
   "version": "3.13.2"
  }
 },
 "nbformat": 4,
 "nbformat_minor": 2
}
