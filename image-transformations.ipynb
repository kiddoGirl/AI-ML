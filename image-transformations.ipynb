{
 "cells": [
  {
   "cell_type": "code",
   "execution_count": 6,
   "metadata": {},
   "outputs": [],
   "source": [
    "import cv2 as cv\n",
    "import numpy as np"
   ]
  },
  {
   "cell_type": "code",
   "execution_count": 16,
   "metadata": {},
   "outputs": [
    {
     "data": {
      "text/plain": [
       "-1"
      ]
     },
     "execution_count": 16,
     "metadata": {},
     "output_type": "execute_result"
    }
   ],
   "source": [
    "img = cv.imread('photos/cat2.jpg')\n",
    "\n",
    "cv.imshow('Normal-img' , img)\n",
    "\n",
    "def translate(img , x , y):\n",
    "    transMat = np.float32([[1,0,x] , [0,1,y]])\n",
    "    dimensions = (img.shape[1] , img.shape[0])\n",
    "    return cv.warpAffine(img , transMat , dimensions)\n",
    "\n",
    "\n",
    "translated = translate(img , 50 , 80)\n",
    "cv.imshow('Translated' , translated)\n",
    "\n",
    "\n",
    "def rotate(img , angle , rotPoint=None):\n",
    "    (height,width) = img.shape[:2]\n",
    "\n",
    "    if rotPoint is None:\n",
    "        rotPoint = (width//2 , height//2)\n",
    "\n",
    "    rotMat = cv.getRotationMatrix2D(rotPoint, angle , 1.0)\n",
    "    dimensions = (width , height)\n",
    "\n",
    "    return cv.warpAffine(img , rotMat,dimensions)\n",
    "\n",
    "rotated  = rotate(img , 45)\n",
    "cv.imshow('ROTAED' , rotated)\n",
    "\n",
    "rotated_rotated = rotate(rotated , -45)\n",
    "cv.imshow('ANOTHER ROTATED ' , rotated_rotated)\n",
    "\n",
    "Fliping = cv.flip(img , -1)\n",
    "cv.imshow('Flipped' , Fliping)\n",
    "  \n",
    "\n",
    "cv.waitKey(0) "
   ]
  },
  {
   "cell_type": "code",
   "execution_count": null,
   "metadata": {},
   "outputs": [],
   "source": []
  }
 ],
 "metadata": {
  "kernelspec": {
   "display_name": "Python 3",
   "language": "python",
   "name": "python3"
  },
  "language_info": {
   "codemirror_mode": {
    "name": "ipython",
    "version": 3
   },
   "file_extension": ".py",
   "mimetype": "text/x-python",
   "name": "python",
   "nbconvert_exporter": "python",
   "pygments_lexer": "ipython3",
   "version": "3.13.2"
  }
 },
 "nbformat": 4,
 "nbformat_minor": 2
}
