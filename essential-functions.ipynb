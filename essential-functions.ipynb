{
 "cells": [
  {
   "cell_type": "code",
   "execution_count": 1,
   "metadata": {},
   "outputs": [],
   "source": [
    "import cv2 as cv"
   ]
  },
  {
   "cell_type": "code",
   "execution_count": 13,
   "metadata": {},
   "outputs": [
    {
     "data": {
      "text/plain": [
       "-1"
      ]
     },
     "execution_count": 13,
     "metadata": {},
     "output_type": "execute_result"
    }
   ],
   "source": [
    "img = cv.imread('photos/cat4.jpg')\n",
    "cv.imshow('BGR IMAGE' , img)\n",
    "\n",
    "gray = cv.cvtColor(img , cv.COLOR_BGR2GRAY)\n",
    "cv.imshow('Gray Image' , gray)\n",
    "\n",
    "\n",
    "blur = cv.GaussianBlur(img , (7,7) ,  cv.BORDER_DEFAULT)\n",
    "cv.imshow('Blur' , blur)\n",
    "\n",
    "canny = cv.Canny(img , 125 , 175)\n",
    "cv.imshow('Edge Image' , canny)\n",
    "\n",
    "canny = cv.Canny(blur , 125 , 175)\n",
    "cv.imshow('Low Edge Image ' , canny)\n",
    "\n",
    "dialted_img = cv.dilate(canny , ( 7,7) , iterations=3)\n",
    "cv.imshow('dialated' , dialted_img)\n",
    "\n",
    "erode = cv.erode(dialted_img , (3,3) , iterations=1)\n",
    "cv.imshow('Erode', erode)\n",
    "\n",
    "resized = cv.resize(img, (700,700) , interpolation=cv.INTER_CUBIC)\n",
    "cv.imshow('Resized' , resized)\n",
    "\n",
    "cropped =   img[50:200 , 200:400]\n",
    "cv.imshow('Cropped' , cropped)\n",
    "\n",
    "cv.waitKey(0)"
   ]
  }
 ],
 "metadata": {
  "kernelspec": {
   "display_name": "Python 3",
   "language": "python",
   "name": "python3"
  },
  "language_info": {
   "codemirror_mode": {
    "name": "ipython",
    "version": 3
   },
   "file_extension": ".py",
   "mimetype": "text/x-python",
   "name": "python",
   "nbconvert_exporter": "python",
   "pygments_lexer": "ipython3",
   "version": "3.13.2"
  }
 },
 "nbformat": 4,
 "nbformat_minor": 2
}
