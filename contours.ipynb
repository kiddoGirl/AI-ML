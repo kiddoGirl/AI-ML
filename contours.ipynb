{
 "cells": [
  {
   "cell_type": "code",
   "execution_count": 11,
   "metadata": {},
   "outputs": [],
   "source": [
    "import cv2 as cv\n",
    "import numpy as np"
   ]
  },
  {
   "cell_type": "code",
   "execution_count": null,
   "metadata": {},
   "outputs": [
    {
     "name": "stdout",
     "output_type": "stream",
     "text": [
      "56 contour(s) found!\n"
     ]
    },
    {
     "data": {
      "text/plain": [
       "-1"
      ]
     },
     "execution_count": 13,
     "metadata": {},
     "output_type": "execute_result"
    }
   ],
   "source": [
    "img = cv.imread('photos/cat6.jpg')\n",
    "cv.imshow('cat' , img)\n",
    "\n",
    "blank = np.zeros(img.shape , dtype='uint8')\n",
    "cv.imshow('Blank' , blank)\n",
    "\n",
    "gray = cv.cvtColor(img , cv.COLOR_BGR2GRAY)\n",
    "cv.imshow('gray cat' , gray)\n",
    "\n",
    "# blur = cv.GaussianBlur(gray , (5,5) , cv.BORDER_DEFAULT)\n",
    "\n",
    "# canny = cv.Canny(blur , 125 , 225)\n",
    "# cv.imshow('edges image' , canny)\n",
    "\n",
    "ret , thresh = cv.threshold(gray , 125 , 255 , cv.THRESH_BINARY)\n",
    "cv.imshow('thresh' , thresh)\n",
    "  \n",
    "contours , hierachies = cv.findContours(thresh , cv.RETR_LIST , cv.CHAIN_APPROX_SIMPLE)\n",
    "print(f'{len(contours)} contour(s) found!')\n",
    "\n",
    "cv.drawContours(blank , contours , -1 , (0,0,255) , 1)\n",
    "cv.imshow('contours drawn' , blank )\n",
    "\n",
    "cv.waitKey(0)"
   ]
  },
  {
   "cell_type": "code",
   "execution_count": null,
   "metadata": {},
   "outputs": [],
   "source": []
  }
 ],
 "metadata": {
  "kernelspec": {
   "display_name": "Python 3",
   "language": "python",
   "name": "python3"
  },
  "language_info": {
   "codemirror_mode": {
    "name": "ipython",
    "version": 3
   },
   "file_extension": ".py",
   "mimetype": "text/x-python",
   "name": "python",
   "nbconvert_exporter": "python",
   "pygments_lexer": "ipython3",
   "version": "3.13.2"
  }
 },
 "nbformat": 4,
 "nbformat_minor": 2
}
