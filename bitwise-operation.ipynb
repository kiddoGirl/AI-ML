{
 "cells": [
  {
   "cell_type": "code",
   "execution_count": 3,
   "metadata": {},
   "outputs": [],
   "source": [
    "import cv2 as cv\n",
    "import numpy as np"
   ]
  },
  {
   "cell_type": "code",
   "execution_count": null,
   "metadata": {},
   "outputs": [
    {
     "data": {
      "text/plain": [
       "-1"
      ]
     },
     "execution_count": 10,
     "metadata": {},
     "output_type": "execute_result"
    }
   ],
   "source": [
    "blank = np.zeros((400,400) , dtype='uint8')\n",
    "\n",
    "\n",
    "#values =  (start point , end point) , go across all , color , fill\n",
    "rectangle = cv.rectangle(blank.copy() , (30,30) , (370,370) , 255 , -1)\n",
    "\n",
    "#values = center , radius , color , fill \n",
    "circle = cv.circle(blank.copy() , (200,200) , 200 , 255 , -1)\n",
    "\n",
    "cv.imshow('rectangle', rectangle)\n",
    "cv.imshow('circle' , circle)\n",
    "\n",
    "#bitwise AND --> intersecting regions\n",
    "bitwise_and = cv.bitwise_and(rectangle, circle)\n",
    "cv.imshow('Bitwise AND' , bitwise_and)\n",
    "\n",
    "#bitwise OR --> non intersecting regions\n",
    "bitwise_or = cv.bitwise_or(rectangle,circle)\n",
    "cv.imshow('Bitwise OR' , bitwise_or)\n",
    "\n",
    "#bitwise XOR --> only find non intersecting region\n",
    "bitwise_xor = cv.bitwise_xor(rectangle,circle)\n",
    "cv.imshow('bitwsie xor' , bitwise_xor)\n",
    "\n",
    "#bitwise not --> not return any thing it inverts the binary color\n",
    "bitwise_not = cv.bitwise_not(rectangle)\n",
    "cv.imshow('bitwise NOT' , bitwise_not)\n",
    "\n",
    "cv.waitKey(0)"
   ]
  },
  {
   "cell_type": "code",
   "execution_count": null,
   "metadata": {},
   "outputs": [],
   "source": []
  }
 ],
 "metadata": {
  "kernelspec": {
   "display_name": "Python 3",
   "language": "python",
   "name": "python3"
  },
  "language_info": {
   "codemirror_mode": {
    "name": "ipython",
    "version": 3
   },
   "file_extension": ".py",
   "mimetype": "text/x-python",
   "name": "python",
   "nbconvert_exporter": "python",
   "pygments_lexer": "ipython3",
   "version": "3.13.2"
  }
 },
 "nbformat": 4,
 "nbformat_minor": 2
}
